{
  "cells": [
    {
      "cell_type": "markdown",
      "metadata": {
        "id": "view-in-github",
        "colab_type": "text"
      },
      "source": [
        "<a href=\"https://colab.research.google.com/github/RK22000/SVIC/blob/main/Scotty2.ipynb\" target=\"_parent\"><img src=\"https://colab.research.google.com/assets/colab-badge.svg\" alt=\"Open In Colab\"/></a>"
      ]
    },
    {
      "cell_type": "markdown",
      "source": [
        "# Imports and initial stuff"
      ],
      "metadata": {
        "id": "6buOVurMQm-F"
      }
    },
    {
      "cell_type": "code",
      "source": [
        "import torch\n",
        "from torch import nn\n",
        "import torchvision.transforms as T\n",
        "from torchvision.io import read_image\n",
        "from torch.utils.data import Dataset\n",
        "from torch.utils.data import random_split\n",
        "from torch.utils.data import DataLoader\n",
        "from torch.utils.data.dataloader import default_collate\n",
        "\n",
        "from tqdm import tqdm\n",
        "\n",
        "from zipfile import ZipFile\n",
        "\n",
        "from os import listdir\n",
        "\n",
        "import pandas as pd\n",
        "\n",
        "import matplotlib.pyplot as plt\n",
        "\n"
      ],
      "metadata": {
        "id": "iy_7r_zKyX6g"
      },
      "execution_count": 1,
      "outputs": []
    },
    {
      "cell_type": "code",
      "source": [
        "base_path = '/content/data/IDC_regular_ps50_idx5'"
      ],
      "metadata": {
        "id": "1aNtooSmNpW2"
      },
      "execution_count": 2,
      "outputs": []
    },
    {
      "cell_type": "markdown",
      "metadata": {
        "id": "Zq4YcuB_ENcV"
      },
      "source": [
        "# Download data\n",
        "\n",
        "roughly 1 minute 30 sec to run all"
      ]
    },
    {
      "cell_type": "code",
      "execution_count": 3,
      "metadata": {
        "id": "ZzNBzKtXC7am"
      },
      "outputs": [],
      "source": [
        "!mkdir /root/.kaggle"
      ]
    },
    {
      "cell_type": "code",
      "execution_count": 4,
      "metadata": {
        "id": "vlaZPfHzBxNL"
      },
      "outputs": [],
      "source": [
        "!cp /content/drive/Shareddrives/cancerClassify_ML@SJSU/kaggle.json /root/.kaggle/kaggle.json"
      ]
    },
    {
      "cell_type": "code",
      "execution_count": 5,
      "metadata": {
        "colab": {
          "base_uri": "https://localhost:8080/"
        },
        "id": "bmpoFh3bC5E8",
        "outputId": "ae32e1d9-9af1-4214-cd4c-4e37cc4e7e3b"
      },
      "outputs": [
        {
          "output_type": "stream",
          "name": "stdout",
          "text": [
            "Downloading breast-histopathology-images.zip to /content\n",
            " 99% 3.08G/3.10G [00:20<00:00, 168MB/s]\n",
            "100% 3.10G/3.10G [00:20<00:00, 166MB/s]\n"
          ]
        }
      ],
      "source": [
        "!kaggle datasets download -d paultimothymooney/breast-histopathology-images"
      ]
    },
    {
      "cell_type": "code",
      "execution_count": 6,
      "metadata": {
        "id": "v2wmF0M4DFCs"
      },
      "outputs": [],
      "source": [
        "\n",
        "with ZipFile('/content/breast-histopathology-images.zip', 'r') as zipObj:\n",
        "    zipObj.extractall(\"data\")"
      ]
    },
    {
      "cell_type": "code",
      "execution_count": 7,
      "metadata": {
        "colab": {
          "base_uri": "https://localhost:8080/"
        },
        "id": "SoI8uIkAE7Nh",
        "outputId": "89d1480e-6180-42a5-e87c-dc6791433909"
      },
      "outputs": [
        {
          "output_type": "execute_result",
          "data": {
            "text/plain": [
              "280"
            ]
          },
          "metadata": {},
          "execution_count": 7
        }
      ],
      "source": [
        "\n",
        "len(listdir('data'))"
      ]
    },
    {
      "cell_type": "markdown",
      "metadata": {
        "id": "QkKPeYMnE39I"
      },
      "source": [
        "IDC_regular_ps50_idx5 is the same data but all the images are regularized to be 50x50\n",
        "\n",
        "I think\n"
      ]
    },
    {
      "cell_type": "code",
      "execution_count": 8,
      "metadata": {
        "colab": {
          "base_uri": "https://localhost:8080/"
        },
        "id": "uhOE-NdeEKoY",
        "outputId": "62149493-793d-4e0d-eb87-00d1d4cd20e0"
      },
      "outputs": [
        {
          "output_type": "stream",
          "name": "stderr",
          "text": [
            "100%|██████████| 279/279 [00:00<00:00, 1362.75it/s]\n"
          ]
        },
        {
          "output_type": "execute_result",
          "data": {
            "text/plain": [
              "(277524, 277524, 277524)"
            ]
          },
          "metadata": {},
          "execution_count": 8
        }
      ],
      "source": [
        "\n",
        "\n",
        "images  = []\n",
        "targets = []\n",
        "pids    = []\n",
        "\n",
        "\n",
        "base_path = '/content/data/IDC_regular_ps50_idx5'\n",
        "patients = listdir(base_path)\n",
        "for pat in tqdm(patients):\n",
        "    for c in [0, 1]:\n",
        "        fold = f'{base_path}/{pat}/{c}/'\n",
        "        imgs = listdir(fold)\n",
        "        images += [fold + img for img in imgs]\n",
        "        targets += [c]*len(imgs)\n",
        "        pids += [pat]*len(imgs)\n",
        "len(images), len(targets), len(pids)"
      ]
    },
    {
      "cell_type": "code",
      "execution_count": 9,
      "metadata": {
        "colab": {
          "base_uri": "https://localhost:8080/",
          "height": 363
        },
        "id": "t0l-Xd4VLtte",
        "outputId": "aec23b91-c495-4eb9-939e-90bc1c5a1d68"
      },
      "outputs": [
        {
          "output_type": "execute_result",
          "data": {
            "text/plain": [
              "       Patient                                              Image  Target\n",
              "185425    9323  /content/data/IDC_regular_ps50_idx5/9323/1/932...       1\n",
              "72308    15473  /content/data/IDC_regular_ps50_idx5/15473/1/15...       1\n",
              "236009   12897  /content/data/IDC_regular_ps50_idx5/12897/0/12...       0\n",
              "99591     9254  /content/data/IDC_regular_ps50_idx5/9254/0/925...       0\n",
              "140320   14157  /content/data/IDC_regular_ps50_idx5/14157/1/14...       1\n",
              "135805   14304  /content/data/IDC_regular_ps50_idx5/14304/0/14...       0\n",
              "19080    10272  /content/data/IDC_regular_ps50_idx5/10272/0/10...       0\n",
              "111381   12894  /content/data/IDC_regular_ps50_idx5/12894/0/12...       0\n",
              "55083    10302  /content/data/IDC_regular_ps50_idx5/10302/0/10...       0\n",
              "251591    9176  /content/data/IDC_regular_ps50_idx5/9176/0/917...       0"
            ],
            "text/html": [
              "\n",
              "  <div id=\"df-7d78660e-eb25-41a8-ac15-d0d0e7dd9fd7\">\n",
              "    <div class=\"colab-df-container\">\n",
              "      <div>\n",
              "<style scoped>\n",
              "    .dataframe tbody tr th:only-of-type {\n",
              "        vertical-align: middle;\n",
              "    }\n",
              "\n",
              "    .dataframe tbody tr th {\n",
              "        vertical-align: top;\n",
              "    }\n",
              "\n",
              "    .dataframe thead th {\n",
              "        text-align: right;\n",
              "    }\n",
              "</style>\n",
              "<table border=\"1\" class=\"dataframe\">\n",
              "  <thead>\n",
              "    <tr style=\"text-align: right;\">\n",
              "      <th></th>\n",
              "      <th>Patient</th>\n",
              "      <th>Image</th>\n",
              "      <th>Target</th>\n",
              "    </tr>\n",
              "  </thead>\n",
              "  <tbody>\n",
              "    <tr>\n",
              "      <th>185425</th>\n",
              "      <td>9323</td>\n",
              "      <td>/content/data/IDC_regular_ps50_idx5/9323/1/932...</td>\n",
              "      <td>1</td>\n",
              "    </tr>\n",
              "    <tr>\n",
              "      <th>72308</th>\n",
              "      <td>15473</td>\n",
              "      <td>/content/data/IDC_regular_ps50_idx5/15473/1/15...</td>\n",
              "      <td>1</td>\n",
              "    </tr>\n",
              "    <tr>\n",
              "      <th>236009</th>\n",
              "      <td>12897</td>\n",
              "      <td>/content/data/IDC_regular_ps50_idx5/12897/0/12...</td>\n",
              "      <td>0</td>\n",
              "    </tr>\n",
              "    <tr>\n",
              "      <th>99591</th>\n",
              "      <td>9254</td>\n",
              "      <td>/content/data/IDC_regular_ps50_idx5/9254/0/925...</td>\n",
              "      <td>0</td>\n",
              "    </tr>\n",
              "    <tr>\n",
              "      <th>140320</th>\n",
              "      <td>14157</td>\n",
              "      <td>/content/data/IDC_regular_ps50_idx5/14157/1/14...</td>\n",
              "      <td>1</td>\n",
              "    </tr>\n",
              "    <tr>\n",
              "      <th>135805</th>\n",
              "      <td>14304</td>\n",
              "      <td>/content/data/IDC_regular_ps50_idx5/14304/0/14...</td>\n",
              "      <td>0</td>\n",
              "    </tr>\n",
              "    <tr>\n",
              "      <th>19080</th>\n",
              "      <td>10272</td>\n",
              "      <td>/content/data/IDC_regular_ps50_idx5/10272/0/10...</td>\n",
              "      <td>0</td>\n",
              "    </tr>\n",
              "    <tr>\n",
              "      <th>111381</th>\n",
              "      <td>12894</td>\n",
              "      <td>/content/data/IDC_regular_ps50_idx5/12894/0/12...</td>\n",
              "      <td>0</td>\n",
              "    </tr>\n",
              "    <tr>\n",
              "      <th>55083</th>\n",
              "      <td>10302</td>\n",
              "      <td>/content/data/IDC_regular_ps50_idx5/10302/0/10...</td>\n",
              "      <td>0</td>\n",
              "    </tr>\n",
              "    <tr>\n",
              "      <th>251591</th>\n",
              "      <td>9176</td>\n",
              "      <td>/content/data/IDC_regular_ps50_idx5/9176/0/917...</td>\n",
              "      <td>0</td>\n",
              "    </tr>\n",
              "  </tbody>\n",
              "</table>\n",
              "</div>\n",
              "      <button class=\"colab-df-convert\" onclick=\"convertToInteractive('df-7d78660e-eb25-41a8-ac15-d0d0e7dd9fd7')\"\n",
              "              title=\"Convert this dataframe to an interactive table.\"\n",
              "              style=\"display:none;\">\n",
              "        \n",
              "  <svg xmlns=\"http://www.w3.org/2000/svg\" height=\"24px\"viewBox=\"0 0 24 24\"\n",
              "       width=\"24px\">\n",
              "    <path d=\"M0 0h24v24H0V0z\" fill=\"none\"/>\n",
              "    <path d=\"M18.56 5.44l.94 2.06.94-2.06 2.06-.94-2.06-.94-.94-2.06-.94 2.06-2.06.94zm-11 1L8.5 8.5l.94-2.06 2.06-.94-2.06-.94L8.5 2.5l-.94 2.06-2.06.94zm10 10l.94 2.06.94-2.06 2.06-.94-2.06-.94-.94-2.06-.94 2.06-2.06.94z\"/><path d=\"M17.41 7.96l-1.37-1.37c-.4-.4-.92-.59-1.43-.59-.52 0-1.04.2-1.43.59L10.3 9.45l-7.72 7.72c-.78.78-.78 2.05 0 2.83L4 21.41c.39.39.9.59 1.41.59.51 0 1.02-.2 1.41-.59l7.78-7.78 2.81-2.81c.8-.78.8-2.07 0-2.86zM5.41 20L4 18.59l7.72-7.72 1.47 1.35L5.41 20z\"/>\n",
              "  </svg>\n",
              "      </button>\n",
              "      \n",
              "  <style>\n",
              "    .colab-df-container {\n",
              "      display:flex;\n",
              "      flex-wrap:wrap;\n",
              "      gap: 12px;\n",
              "    }\n",
              "\n",
              "    .colab-df-convert {\n",
              "      background-color: #E8F0FE;\n",
              "      border: none;\n",
              "      border-radius: 50%;\n",
              "      cursor: pointer;\n",
              "      display: none;\n",
              "      fill: #1967D2;\n",
              "      height: 32px;\n",
              "      padding: 0 0 0 0;\n",
              "      width: 32px;\n",
              "    }\n",
              "\n",
              "    .colab-df-convert:hover {\n",
              "      background-color: #E2EBFA;\n",
              "      box-shadow: 0px 1px 2px rgba(60, 64, 67, 0.3), 0px 1px 3px 1px rgba(60, 64, 67, 0.15);\n",
              "      fill: #174EA6;\n",
              "    }\n",
              "\n",
              "    [theme=dark] .colab-df-convert {\n",
              "      background-color: #3B4455;\n",
              "      fill: #D2E3FC;\n",
              "    }\n",
              "\n",
              "    [theme=dark] .colab-df-convert:hover {\n",
              "      background-color: #434B5C;\n",
              "      box-shadow: 0px 1px 3px 1px rgba(0, 0, 0, 0.15);\n",
              "      filter: drop-shadow(0px 1px 2px rgba(0, 0, 0, 0.3));\n",
              "      fill: #FFFFFF;\n",
              "    }\n",
              "  </style>\n",
              "\n",
              "      <script>\n",
              "        const buttonEl =\n",
              "          document.querySelector('#df-7d78660e-eb25-41a8-ac15-d0d0e7dd9fd7 button.colab-df-convert');\n",
              "        buttonEl.style.display =\n",
              "          google.colab.kernel.accessAllowed ? 'block' : 'none';\n",
              "\n",
              "        async function convertToInteractive(key) {\n",
              "          const element = document.querySelector('#df-7d78660e-eb25-41a8-ac15-d0d0e7dd9fd7');\n",
              "          const dataTable =\n",
              "            await google.colab.kernel.invokeFunction('convertToInteractive',\n",
              "                                                     [key], {});\n",
              "          if (!dataTable) return;\n",
              "\n",
              "          const docLinkHtml = 'Like what you see? Visit the ' +\n",
              "            '<a target=\"_blank\" href=https://colab.research.google.com/notebooks/data_table.ipynb>data table notebook</a>'\n",
              "            + ' to learn more about interactive tables.';\n",
              "          element.innerHTML = '';\n",
              "          dataTable['output_type'] = 'display_data';\n",
              "          await google.colab.output.renderOutput(dataTable, element);\n",
              "          const docLink = document.createElement('div');\n",
              "          docLink.innerHTML = docLinkHtml;\n",
              "          element.appendChild(docLink);\n",
              "        }\n",
              "      </script>\n",
              "    </div>\n",
              "  </div>\n",
              "  "
            ]
          },
          "metadata": {},
          "execution_count": 9
        }
      ],
      "source": [
        "\n",
        "\n",
        "df = pd.DataFrame({\n",
        "    'Patient': pids,\n",
        "    'Image': images,\n",
        "    'Target': targets\n",
        "})\n",
        "df.sample(10)"
      ]
    },
    {
      "cell_type": "markdown",
      "metadata": {
        "id": "u94fGJeCSg_K"
      },
      "source": [
        "# Dataset Exploration"
      ]
    },
    {
      "cell_type": "code",
      "execution_count": 10,
      "metadata": {
        "colab": {
          "base_uri": "https://localhost:8080/",
          "height": 282
        },
        "id": "FqcKokulRmXZ",
        "outputId": "523d7160-002b-405f-d228-00d4dfa0b5b0"
      },
      "outputs": [
        {
          "output_type": "execute_result",
          "data": {
            "text/plain": [
              "Text(0.5, 1.0, 'Cancerous vs Benign samples')"
            ]
          },
          "metadata": {},
          "execution_count": 10
        },
        {
          "output_type": "display_data",
          "data": {
            "text/plain": [
              "<Figure size 432x288 with 1 Axes>"
            ],
            "image/png": "[encoded data removed]"
          },
          "metadata": {}
        }
      ],
      "source": [
        "neg, pos = len(df[df.Target==0]), len(df[df.Target==1])\n",
        "plt.pie([pos, neg], labels=[\"Cancerous\", \"Benign\"], autopct='%1.1f%%')\n",
        "plt.title(\"Cancerous vs Benign samples\")"
      ]
    },
    {
      "cell_type": "code",
      "source": [
        "pos, neg = df[df.Target==1], df[df.Target==0]"
      ],
      "metadata": {
        "id": "BiRqISIY2FGv"
      },
      "execution_count": 13,
      "outputs": []
    },
    {
      "cell_type": "code",
      "source": [
        "pos"
      ],
      "metadata": {
        "colab": {
          "base_uri": "https://localhost:8080/",
          "height": 423
        },
        "id": "epApsd4m2b42",
        "outputId": "29fd05c5-6588-443c-8c52-c28710328573"
      },
      "execution_count": 14,
      "outputs": [
        {
          "output_type": "execute_result",
          "data": {
            "text/plain": [
              "       Patient                                              Image  Target\n",
              "360       9077  /content/data/IDC_regular_ps50_idx5/9077/1/907...       1\n",
              "361       9077  /content/data/IDC_regular_ps50_idx5/9077/1/907...       1\n",
              "362       9077  /content/data/IDC_regular_ps50_idx5/9077/1/907...       1\n",
              "363       9077  /content/data/IDC_regular_ps50_idx5/9077/1/907...       1\n",
              "364       9077  /content/data/IDC_regular_ps50_idx5/9077/1/907...       1\n",
              "...        ...                                                ...     ...\n",
              "277519   10285  /content/data/IDC_regular_ps50_idx5/10285/1/10...       1\n",
              "277520   10285  /content/data/IDC_regular_ps50_idx5/10285/1/10...       1\n",
              "277521   10285  /content/data/IDC_regular_ps50_idx5/10285/1/10...       1\n",
              "277522   10285  /content/data/IDC_regular_ps50_idx5/10285/1/10...       1\n",
              "277523   10285  /content/data/IDC_regular_ps50_idx5/10285/1/10...       1\n",
              "\n",
              "[78786 rows x 3 columns]"
            ],
            "text/html": [
              "\n",
              "  <div id=\"df-084fc11b-06f4-40a9-bf73-13fe458a3bed\">\n",
              "    <div class=\"colab-df-container\">\n",
              "      <div>\n",
              "<style scoped>\n",
              "    .dataframe tbody tr th:only-of-type {\n",
              "        vertical-align: middle;\n",
              "    }\n",
              "\n",
              "    .dataframe tbody tr th {\n",
              "        vertical-align: top;\n",
              "    }\n",
              "\n",
              "    .dataframe thead th {\n",
              "        text-align: right;\n",
              "    }\n",
              "</style>\n",
              "<table border=\"1\" class=\"dataframe\">\n",
              "  <thead>\n",
              "    <tr style=\"text-align: right;\">\n",
              "      <th></th>\n",
              "      <th>Patient</th>\n",
              "      <th>Image</th>\n",
              "      <th>Target</th>\n",
              "    </tr>\n",
              "  </thead>\n",
              "  <tbody>\n",
              "    <tr>\n",
              "      <th>360</th>\n",
              "      <td>9077</td>\n",
              "      <td>/content/data/IDC_regular_ps50_idx5/9077/1/907...</td>\n",
              "      <td>1</td>\n",
              "    </tr>\n",
              "    <tr>\n",
              "      <th>361</th>\n",
              "      <td>9077</td>\n",
              "      <td>/content/data/IDC_regular_ps50_idx5/9077/1/907...</td>\n",
              "      <td>1</td>\n",
              "    </tr>\n",
              "    <tr>\n",
              "      <th>362</th>\n",
              "      <td>9077</td>\n",
              "      <td>/content/data/IDC_regular_ps50_idx5/9077/1/907...</td>\n",
              "      <td>1</td>\n",
              "    </tr>\n",
              "    <tr>\n",
              "      <th>363</th>\n",
              "      <td>9077</td>\n",
              "      <td>/content/data/IDC_regular_ps50_idx5/9077/1/907...</td>\n",
              "      <td>1</td>\n",
              "    </tr>\n",
              "    <tr>\n",
              "      <th>364</th>\n",
              "      <td>9077</td>\n",
              "      <td>/content/data/IDC_regular_ps50_idx5/9077/1/907...</td>\n",
              "      <td>1</td>\n",
              "    </tr>\n",
              "    <tr>\n",
              "      <th>...</th>\n",
              "      <td>...</td>\n",
              "      <td>...</td>\n",
              "      <td>...</td>\n",
              "    </tr>\n",
              "    <tr>\n",
              "      <th>277519</th>\n",
              "      <td>10285</td>\n",
              "      <td>/content/data/IDC_regular_ps50_idx5/10285/1/10...</td>\n",
              "      <td>1</td>\n",
              "    </tr>\n",
              "    <tr>\n",
              "      <th>277520</th>\n",
              "      <td>10285</td>\n",
              "      <td>/content/data/IDC_regular_ps50_idx5/10285/1/10...</td>\n",
              "      <td>1</td>\n",
              "    </tr>\n",
              "    <tr>\n",
              "      <th>277521</th>\n",
              "      <td>10285</td>\n",
              "      <td>/content/data/IDC_regular_ps50_idx5/10285/1/10...</td>\n",
              "      <td>1</td>\n",
              "    </tr>\n",
              "    <tr>\n",
              "      <th>277522</th>\n",
              "      <td>10285</td>\n",
              "      <td>/content/data/IDC_regular_ps50_idx5/10285/1/10...</td>\n",
              "      <td>1</td>\n",
              "    </tr>\n",
              "    <tr>\n",
              "      <th>277523</th>\n",
              "      <td>10285</td>\n",
              "      <td>/content/data/IDC_regular_ps50_idx5/10285/1/10...</td>\n",
              "      <td>1</td>\n",
              "    </tr>\n",
              "  </tbody>\n",
              "</table>\n",
              "<p>78786 rows × 3 columns</p>\n",
              "</div>\n",
              "      <button class=\"colab-df-convert\" onclick=\"convertToInteractive('df-084fc11b-06f4-40a9-bf73-13fe458a3bed')\"\n",
              "              title=\"Convert this dataframe to an interactive table.\"\n",
              "              style=\"display:none;\">\n",
              "        \n",
              "  <svg xmlns=\"http://www.w3.org/2000/svg\" height=\"24px\"viewBox=\"0 0 24 24\"\n",
              "       width=\"24px\">\n",
              "    <path d=\"M0 0h24v24H0V0z\" fill=\"none\"/>\n",
              "    <path d=\"M18.56 5.44l.94 2.06.94-2.06 2.06-.94-2.06-.94-.94-2.06-.94 2.06-2.06.94zm-11 1L8.5 8.5l.94-2.06 2.06-.94-2.06-.94L8.5 2.5l-.94 2.06-2.06.94zm10 10l.94 2.06.94-2.06 2.06-.94-2.06-.94-.94-2.06-.94 2.06-2.06.94z\"/><path d=\"M17.41 7.96l-1.37-1.37c-.4-.4-.92-.59-1.43-.59-.52 0-1.04.2-1.43.59L10.3 9.45l-7.72 7.72c-.78.78-.78 2.05 0 2.83L4 21.41c.39.39.9.59 1.41.59.51 0 1.02-.2 1.41-.59l7.78-7.78 2.81-2.81c.8-.78.8-2.07 0-2.86zM5.41 20L4 18.59l7.72-7.72 1.47 1.35L5.41 20z\"/>\n",
              "  </svg>\n",
              "      </button>\n",
              "      \n",
              "  <style>\n",
              "    .colab-df-container {\n",
              "      display:flex;\n",
              "      flex-wrap:wrap;\n",
              "      gap: 12px;\n",
              "    }\n",
              "\n",
              "    .colab-df-convert {\n",
              "      background-color: #E8F0FE;\n",
              "      border: none;\n",
              "      border-radius: 50%;\n",
              "      cursor: pointer;\n",
              "      display: none;\n",
              "      fill: #1967D2;\n",
              "      height: 32px;\n",
              "      padding: 0 0 0 0;\n",
              "      width: 32px;\n",
              "    }\n",
              "\n",
              "    .colab-df-convert:hover {\n",
              "      background-color: #E2EBFA;\n",
              "      box-shadow: 0px 1px 2px rgba(60, 64, 67, 0.3), 0px 1px 3px 1px rgba(60, 64, 67, 0.15);\n",
              "      fill: #174EA6;\n",
              "    }\n",
              "\n",
              "    [theme=dark] .colab-df-convert {\n",
              "      background-color: #3B4455;\n",
              "      fill: #D2E3FC;\n",
              "    }\n",
              "\n",
              "    [theme=dark] .colab-df-convert:hover {\n",
              "      background-color: #434B5C;\n",
              "      box-shadow: 0px 1px 3px 1px rgba(0, 0, 0, 0.15);\n",
              "      filter: drop-shadow(0px 1px 2px rgba(0, 0, 0, 0.3));\n",
              "      fill: #FFFFFF;\n",
              "    }\n",
              "  </style>\n",
              "\n",
              "      <script>\n",
              "        const buttonEl =\n",
              "          document.querySelector('#df-084fc11b-06f4-40a9-bf73-13fe458a3bed button.colab-df-convert');\n",
              "        buttonEl.style.display =\n",
              "          google.colab.kernel.accessAllowed ? 'block' : 'none';\n",
              "\n",
              "        async function convertToInteractive(key) {\n",
              "          const element = document.querySelector('#df-084fc11b-06f4-40a9-bf73-13fe458a3bed');\n",
              "          const dataTable =\n",
              "            await google.colab.kernel.invokeFunction('convertToInteractive',\n",
              "                                                     [key], {});\n",
              "          if (!dataTable) return;\n",
              "\n",
              "          const docLinkHtml = 'Like what you see? Visit the ' +\n",
              "            '<a target=\"_blank\" href=https://colab.research.google.com/notebooks/data_table.ipynb>data table notebook</a>'\n",
              "            + ' to learn more about interactive tables.';\n",
              "          element.innerHTML = '';\n",
              "          dataTable['output_type'] = 'display_data';\n",
              "          await google.colab.output.renderOutput(dataTable, element);\n",
              "          const docLink = document.createElement('div');\n",
              "          docLink.innerHTML = docLinkHtml;\n",
              "          element.appendChild(docLink);\n",
              "        }\n",
              "      </script>\n",
              "    </div>\n",
              "  </div>\n",
              "  "
            ]
          },
          "metadata": {},
          "execution_count": 14
        }
      ]
    },
    {
      "cell_type": "code",
      "source": [
        "neg"
      ],
      "metadata": {
        "colab": {
          "base_uri": "https://localhost:8080/",
          "height": 423
        },
        "id": "b4Of4UVj3PgD",
        "outputId": "566e2d7b-2f8a-4064-b32a-3860d0764070"
      },
      "execution_count": 15,
      "outputs": [
        {
          "output_type": "execute_result",
          "data": {
            "text/plain": [
              "       Patient                                              Image  Target\n",
              "0         9077  /content/data/IDC_regular_ps50_idx5/9077/0/907...       0\n",
              "1         9077  /content/data/IDC_regular_ps50_idx5/9077/0/907...       0\n",
              "2         9077  /content/data/IDC_regular_ps50_idx5/9077/0/907...       0\n",
              "3         9077  /content/data/IDC_regular_ps50_idx5/9077/0/907...       0\n",
              "4         9077  /content/data/IDC_regular_ps50_idx5/9077/0/907...       0\n",
              "...        ...                                                ...     ...\n",
              "277297   10285  /content/data/IDC_regular_ps50_idx5/10285/0/10...       0\n",
              "277298   10285  /content/data/IDC_regular_ps50_idx5/10285/0/10...       0\n",
              "277299   10285  /content/data/IDC_regular_ps50_idx5/10285/0/10...       0\n",
              "277300   10285  /content/data/IDC_regular_ps50_idx5/10285/0/10...       0\n",
              "277301   10285  /content/data/IDC_regular_ps50_idx5/10285/0/10...       0\n",
              "\n",
              "[198738 rows x 3 columns]"
            ],
            "text/html": [
              "\n",
              "  <div id=\"df-0d5a3bdc-d147-49c3-93d9-ed4a94d7cdaf\">\n",
              "    <div class=\"colab-df-container\">\n",
              "      <div>\n",
              "<style scoped>\n",
              "    .dataframe tbody tr th:only-of-type {\n",
              "        vertical-align: middle;\n",
              "    }\n",
              "\n",
              "    .dataframe tbody tr th {\n",
              "        vertical-align: top;\n",
              "    }\n",
              "\n",
              "    .dataframe thead th {\n",
              "        text-align: right;\n",
              "    }\n",
              "</style>\n",
              "<table border=\"1\" class=\"dataframe\">\n",
              "  <thead>\n",
              "    <tr style=\"text-align: right;\">\n",
              "      <th></th>\n",
              "      <th>Patient</th>\n",
              "      <th>Image</th>\n",
              "      <th>Target</th>\n",
              "    </tr>\n",
              "  </thead>\n",
              "  <tbody>\n",
              "    <tr>\n",
              "      <th>0</th>\n",
              "      <td>9077</td>\n",
              "      <td>/content/data/IDC_regular_ps50_idx5/9077/0/907...</td>\n",
              "      <td>0</td>\n",
              "    </tr>\n",
              "    <tr>\n",
              "      <th>1</th>\n",
              "      <td>9077</td>\n",
              "      <td>/content/data/IDC_regular_ps50_idx5/9077/0/907...</td>\n",
              "      <td>0</td>\n",
              "    </tr>\n",
              "    <tr>\n",
              "      <th>2</th>\n",
              "      <td>9077</td>\n",
              "      <td>/content/data/IDC_regular_ps50_idx5/9077/0/907...</td>\n",
              "      <td>0</td>\n",
              "    </tr>\n",
              "    <tr>\n",
              "      <th>3</th>\n",
              "      <td>9077</td>\n",
              "      <td>/content/data/IDC_regular_ps50_idx5/9077/0/907...</td>\n",
              "      <td>0</td>\n",
              "    </tr>\n",
              "    <tr>\n",
              "      <th>4</th>\n",
              "      <td>9077</td>\n",
              "      <td>/content/data/IDC_regular_ps50_idx5/9077/0/907...</td>\n",
              "      <td>0</td>\n",
              "    </tr>\n",
              "    <tr>\n",
              "      <th>...</th>\n",
              "      <td>...</td>\n",
              "      <td>...</td>\n",
              "      <td>...</td>\n",
              "    </tr>\n",
              "    <tr>\n",
              "      <th>277297</th>\n",
              "      <td>10285</td>\n",
              "      <td>/content/data/IDC_regular_ps50_idx5/10285/0/10...</td>\n",
              "      <td>0</td>\n",
              "    </tr>\n",
              "    <tr>\n",
              "      <th>277298</th>\n",
              "      <td>10285</td>\n",
              "      <td>/content/data/IDC_regular_ps50_idx5/10285/0/10...</td>\n",
              "      <td>0</td>\n",
              "    </tr>\n",
              "    <tr>\n",
              "      <th>277299</th>\n",
              "      <td>10285</td>\n",
              "      <td>/content/data/IDC_regular_ps50_idx5/10285/0/10...</td>\n",
              "      <td>0</td>\n",
              "    </tr>\n",
              "    <tr>\n",
              "      <th>277300</th>\n",
              "      <td>10285</td>\n",
              "      <td>/content/data/IDC_regular_ps50_idx5/10285/0/10...</td>\n",
              "      <td>0</td>\n",
              "    </tr>\n",
              "    <tr>\n",
              "      <th>277301</th>\n",
              "      <td>10285</td>\n",
              "      <td>/content/data/IDC_regular_ps50_idx5/10285/0/10...</td>\n",
              "      <td>0</td>\n",
              "    </tr>\n",
              "  </tbody>\n",
              "</table>\n",
              "<p>198738 rows × 3 columns</p>\n",
              "</div>\n",
              "      <button class=\"colab-df-convert\" onclick=\"convertToInteractive('df-0d5a3bdc-d147-49c3-93d9-ed4a94d7cdaf')\"\n",
              "              title=\"Convert this dataframe to an interactive table.\"\n",
              "              style=\"display:none;\">\n",
              "        \n",
              "  <svg xmlns=\"http://www.w3.org/2000/svg\" height=\"24px\"viewBox=\"0 0 24 24\"\n",
              "       width=\"24px\">\n",
              "    <path d=\"M0 0h24v24H0V0z\" fill=\"none\"/>\n",
              "    <path d=\"M18.56 5.44l.94 2.06.94-2.06 2.06-.94-2.06-.94-.94-2.06-.94 2.06-2.06.94zm-11 1L8.5 8.5l.94-2.06 2.06-.94-2.06-.94L8.5 2.5l-.94 2.06-2.06.94zm10 10l.94 2.06.94-2.06 2.06-.94-2.06-.94-.94-2.06-.94 2.06-2.06.94z\"/><path d=\"M17.41 7.96l-1.37-1.37c-.4-.4-.92-.59-1.43-.59-.52 0-1.04.2-1.43.59L10.3 9.45l-7.72 7.72c-.78.78-.78 2.05 0 2.83L4 21.41c.39.39.9.59 1.41.59.51 0 1.02-.2 1.41-.59l7.78-7.78 2.81-2.81c.8-.78.8-2.07 0-2.86zM5.41 20L4 18.59l7.72-7.72 1.47 1.35L5.41 20z\"/>\n",
              "  </svg>\n",
              "      </button>\n",
              "      \n",
              "  <style>\n",
              "    .colab-df-container {\n",
              "      display:flex;\n",
              "      flex-wrap:wrap;\n",
              "      gap: 12px;\n",
              "    }\n",
              "\n",
              "    .colab-df-convert {\n",
              "      background-color: #E8F0FE;\n",
              "      border: none;\n",
              "      border-radius: 50%;\n",
              "      cursor: pointer;\n",
              "      display: none;\n",
              "      fill: #1967D2;\n",
              "      height: 32px;\n",
              "      padding: 0 0 0 0;\n",
              "      width: 32px;\n",
              "    }\n",
              "\n",
              "    .colab-df-convert:hover {\n",
              "      background-color: #E2EBFA;\n",
              "      box-shadow: 0px 1px 2px rgba(60, 64, 67, 0.3), 0px 1px 3px 1px rgba(60, 64, 67, 0.15);\n",
              "      fill: #174EA6;\n",
              "    }\n",
              "\n",
              "    [theme=dark] .colab-df-convert {\n",
              "      background-color: #3B4455;\n",
              "      fill: #D2E3FC;\n",
              "    }\n",
              "\n",
              "    [theme=dark] .colab-df-convert:hover {\n",
              "      background-color: #434B5C;\n",
              "      box-shadow: 0px 1px 3px 1px rgba(0, 0, 0, 0.15);\n",
              "      filter: drop-shadow(0px 1px 2px rgba(0, 0, 0, 0.3));\n",
              "      fill: #FFFFFF;\n",
              "    }\n",
              "  </style>\n",
              "\n",
              "      <script>\n",
              "        const buttonEl =\n",
              "          document.querySelector('#df-0d5a3bdc-d147-49c3-93d9-ed4a94d7cdaf button.colab-df-convert');\n",
              "        buttonEl.style.display =\n",
              "          google.colab.kernel.accessAllowed ? 'block' : 'none';\n",
              "\n",
              "        async function convertToInteractive(key) {\n",
              "          const element = document.querySelector('#df-0d5a3bdc-d147-49c3-93d9-ed4a94d7cdaf');\n",
              "          const dataTable =\n",
              "            await google.colab.kernel.invokeFunction('convertToInteractive',\n",
              "                                                     [key], {});\n",
              "          if (!dataTable) return;\n",
              "\n",
              "          const docLinkHtml = 'Like what you see? Visit the ' +\n",
              "            '<a target=\"_blank\" href=https://colab.research.google.com/notebooks/data_table.ipynb>data table notebook</a>'\n",
              "            + ' to learn more about interactive tables.';\n",
              "          element.innerHTML = '';\n",
              "          dataTable['output_type'] = 'display_data';\n",
              "          await google.colab.output.renderOutput(dataTable, element);\n",
              "          const docLink = document.createElement('div');\n",
              "          docLink.innerHTML = docLinkHtml;\n",
              "          element.appendChild(docLink);\n",
              "        }\n",
              "      </script>\n",
              "    </div>\n",
              "  </div>\n",
              "  "
            ]
          },
          "metadata": {},
          "execution_count": 15
        }
      ]
    },
    {
      "cell_type": "code",
      "source": [
        "resize = T.Resize((50,50))\n",
        "def show_mean(paths):\n",
        "    mean = []\n",
        "    for i, p in enumerate(paths):\n",
        "        mean.append(resize(read_image(p))/255)\n",
        "    i+=1\n",
        "    mean = sum(mean)\n",
        "    plt.imshow(toPIL(mean/i))"
      ],
      "metadata": {
        "id": "HxHNlJUI44-P"
      },
      "execution_count": 102,
      "outputs": []
    },
    {
      "cell_type": "code",
      "source": [
        "toPIL = T.ToPILImage()"
      ],
      "metadata": {
        "id": "IGbV9oxc3TvK"
      },
      "execution_count": 107,
      "outputs": []
    },
    {
      "cell_type": "code",
      "source": [
        "for mean_count in [1, 5, 25, 125, 625, 3125]:\n",
        "    p_path = pos.sample(mean_count)[\"Image\"]\n",
        "    n_path = neg.sample(mean_count)[\"Image\"]\n",
        "    size = (10, 5)\n",
        "    plt.figure(figsize=size)\n",
        "    plt.subplot(121)\n",
        "    show_mean(p_path)\n",
        "    plt.title(\"Mean cancerous\")\n",
        "    plt.subplot(122)\n",
        "    show_mean(n_path)\n",
        "    plt.title(\"Mean benign\")\n",
        "    plt.suptitle(f\"Mean of {mean_count} samples\")"
      ],
      "metadata": {
        "colab": {
          "base_uri": "https://localhost:8080/",
          "height": 1000
        },
        "id": "XvXcp_Bt-yj8",
        "outputId": "e6656746-345b-4aa8-aaf4-9dc29f7847bf"
      },
      "execution_count": 111,
      "outputs": [
        {
          "output_type": "display_data",
          "data": {
            "text/plain": [
              "<Figure size 720x360 with 2 Axes>"
            ],
            "image/png": "[encoded data removed]"
          },
          "metadata": {
            "needs_background": "light"
          }
        },
        {
          "output_type": "display_data",
          "data": {
            "text/plain": [
              "<Figure size 720x360 with 2 Axes>"
            ],
            "image/png": "[encoded data removed]"
          },
          "metadata": {
            "needs_background": "light"
          }
        },
        {
          "output_type": "display_data",
          "data": {
            "text/plain": [
              "<Figure size 720x360 with 2 Axes>"
            ],
            "image/png": "[encoded data removed]"
          },
          "metadata": {
            "needs_background": "light"
          }
        },
        {
          "output_type": "display_data",
          "data": {
            "text/plain": [
              "<Figure size 720x360 with 2 Axes>"
            ],
            "image/png": "[encoded data removed]"
          },
          "metadata": {
            "needs_background": "light"
          }
        },
        {
          "output_type": "display_data",
          "data": {
            "text/plain": [
              "<Figure size 720x360 with 2 Axes>"
            ],
            "image/png": "[encoded data removed]"
          },
          "metadata": {
            "needs_background": "light"
          }
        },
        {
          "output_type": "display_data",
          "data": {
            "text/plain": [
              "<Figure size 720x360 with 2 Axes>"
            ],
            "image/png": "[encoded data removed]"
          },
          "metadata": {
            "needs_background": "light"
          }
        }
      ]
    },
    {
      "cell_type": "code",
      "source": [
        "tmp = df[['Patient', 'Target']]\n",
        "grp = tmp.groupby(by='Patient')\n",
        "tmp = grp.sum()\n",
        "tmp['Total'] = grp.count()['Target']\n",
        "tmp.head()"
      ],
      "metadata": {
        "colab": {
          "base_uri": "https://localhost:8080/",
          "height": 237
        },
        "id": "qrcp9WKPpk6p",
        "outputId": "93ae3376-827b-4b26-8c08-798b53aabf0f"
      },
      "execution_count": null,
      "outputs": [
        {
          "output_type": "execute_result",
          "data": {
            "text/plain": [
              "         Target  Total\n",
              "Patient               \n",
              "10253        70    549\n",
              "10254        76    848\n",
              "10255        91    272\n",
              "10256       117    468\n",
              "10257       208    635"
            ],
            "text/html": [
              "\n",
              "  <div id=\"df-bdcdeb49-bc86-4f4b-9657-85c072c07049\">\n",
              "    <div class=\"colab-df-container\">\n",
              "      <div>\n",
              "<style scoped>\n",
              "    .dataframe tbody tr th:only-of-type {\n",
              "        vertical-align: middle;\n",
              "    }\n",
              "\n",
              "    .dataframe tbody tr th {\n",
              "        vertical-align: top;\n",
              "    }\n",
              "\n",
              "    .dataframe thead th {\n",
              "        text-align: right;\n",
              "    }\n",
              "</style>\n",
              "<table border=\"1\" class=\"dataframe\">\n",
              "  <thead>\n",
              "    <tr style=\"text-align: right;\">\n",
              "      <th></th>\n",
              "      <th>Target</th>\n",
              "      <th>Total</th>\n",
              "    </tr>\n",
              "    <tr>\n",
              "      <th>Patient</th>\n",
              "      <th></th>\n",
              "      <th></th>\n",
              "    </tr>\n",
              "  </thead>\n",
              "  <tbody>\n",
              "    <tr>\n",
              "      <th>10253</th>\n",
              "      <td>70</td>\n",
              "      <td>549</td>\n",
              "    </tr>\n",
              "    <tr>\n",
              "      <th>10254</th>\n",
              "      <td>76</td>\n",
              "      <td>848</td>\n",
              "    </tr>\n",
              "    <tr>\n",
              "      <th>10255</th>\n",
              "      <td>91</td>\n",
              "      <td>272</td>\n",
              "    </tr>\n",
              "    <tr>\n",
              "      <th>10256</th>\n",
              "      <td>117</td>\n",
              "      <td>468</td>\n",
              "    </tr>\n",
              "    <tr>\n",
              "      <th>10257</th>\n",
              "      <td>208</td>\n",
              "      <td>635</td>\n",
              "    </tr>\n",
              "  </tbody>\n",
              "</table>\n",
              "</div>\n",
              "      <button class=\"colab-df-convert\" onclick=\"convertToInteractive('df-bdcdeb49-bc86-4f4b-9657-85c072c07049')\"\n",
              "              title=\"Convert this dataframe to an interactive table.\"\n",
              "              style=\"display:none;\">\n",
              "        \n",
              "  <svg xmlns=\"http://www.w3.org/2000/svg\" height=\"24px\"viewBox=\"0 0 24 24\"\n",
              "       width=\"24px\">\n",
              "    <path d=\"M0 0h24v24H0V0z\" fill=\"none\"/>\n",
              "    <path d=\"M18.56 5.44l.94 2.06.94-2.06 2.06-.94-2.06-.94-.94-2.06-.94 2.06-2.06.94zm-11 1L8.5 8.5l.94-2.06 2.06-.94-2.06-.94L8.5 2.5l-.94 2.06-2.06.94zm10 10l.94 2.06.94-2.06 2.06-.94-2.06-.94-.94-2.06-.94 2.06-2.06.94z\"/><path d=\"M17.41 7.96l-1.37-1.37c-.4-.4-.92-.59-1.43-.59-.52 0-1.04.2-1.43.59L10.3 9.45l-7.72 7.72c-.78.78-.78 2.05 0 2.83L4 21.41c.39.39.9.59 1.41.59.51 0 1.02-.2 1.41-.59l7.78-7.78 2.81-2.81c.8-.78.8-2.07 0-2.86zM5.41 20L4 18.59l7.72-7.72 1.47 1.35L5.41 20z\"/>\n",
              "  </svg>\n",
              "      </button>\n",
              "      \n",
              "  <style>\n",
              "    .colab-df-container {\n",
              "      display:flex;\n",
              "      flex-wrap:wrap;\n",
              "      gap: 12px;\n",
              "    }\n",
              "\n",
              "    .colab-df-convert {\n",
              "      background-color: #E8F0FE;\n",
              "      border: none;\n",
              "      border-radius: 50%;\n",
              "      cursor: pointer;\n",
              "      display: none;\n",
              "      fill: #1967D2;\n",
              "      height: 32px;\n",
              "      padding: 0 0 0 0;\n",
              "      width: 32px;\n",
              "    }\n",
              "\n",
              "    .colab-df-convert:hover {\n",
              "      background-color: #E2EBFA;\n",
              "      box-shadow: 0px 1px 2px rgba(60, 64, 67, 0.3), 0px 1px 3px 1px rgba(60, 64, 67, 0.15);\n",
              "      fill: #174EA6;\n",
              "    }\n",
              "\n",
              "    [theme=dark] .colab-df-convert {\n",
              "      background-color: #3B4455;\n",
              "      fill: #D2E3FC;\n",
              "    }\n",
              "\n",
              "    [theme=dark] .colab-df-convert:hover {\n",
              "      background-color: #434B5C;\n",
              "      box-shadow: 0px 1px 3px 1px rgba(0, 0, 0, 0.15);\n",
              "      filter: drop-shadow(0px 1px 2px rgba(0, 0, 0, 0.3));\n",
              "      fill: #FFFFFF;\n",
              "    }\n",
              "  </style>\n",
              "\n",
              "      <script>\n",
              "        const buttonEl =\n",
              "          document.querySelector('#df-bdcdeb49-bc86-4f4b-9657-85c072c07049 button.colab-df-convert');\n",
              "        buttonEl.style.display =\n",
              "          google.colab.kernel.accessAllowed ? 'block' : 'none';\n",
              "\n",
              "        async function convertToInteractive(key) {\n",
              "          const element = document.querySelector('#df-bdcdeb49-bc86-4f4b-9657-85c072c07049');\n",
              "          const dataTable =\n",
              "            await google.colab.kernel.invokeFunction('convertToInteractive',\n",
              "                                                     [key], {});\n",
              "          if (!dataTable) return;\n",
              "\n",
              "          const docLinkHtml = 'Like what you see? Visit the ' +\n",
              "            '<a target=\"_blank\" href=https://colab.research.google.com/notebooks/data_table.ipynb>data table notebook</a>'\n",
              "            + ' to learn more about interactive tables.';\n",
              "          element.innerHTML = '';\n",
              "          dataTable['output_type'] = 'display_data';\n",
              "          await google.colab.output.renderOutput(dataTable, element);\n",
              "          const docLink = document.createElement('div');\n",
              "          docLink.innerHTML = docLinkHtml;\n",
              "          element.appendChild(docLink);\n",
              "        }\n",
              "      </script>\n",
              "    </div>\n",
              "  </div>\n",
              "  "
            ]
          },
          "metadata": {},
          "execution_count": 10
        }
      ]
    },
    {
      "cell_type": "markdown",
      "source": [
        "# Dataset"
      ],
      "metadata": {
        "id": "yozntCWfs-LZ"
      }
    },
    {
      "cell_type": "code",
      "source": [
        "\n",
        "def show_img(img):\n",
        "    plt.imshow(T.ToPILImage()(img))"
      ],
      "metadata": {
        "id": "Z0osj84K4Dqv"
      },
      "execution_count": null,
      "outputs": []
    },
    {
      "cell_type": "code",
      "source": [
        "class BC_Dataset(Dataset):\n",
        "    def __init__(self, root, transform=None, target_transform=None):\n",
        "        self.images  = []\n",
        "        self.targets = []\n",
        "        self.pids    = []\n",
        "        base_path = root\n",
        "        patients = listdir(base_path)\n",
        "        for pat in tqdm(patients):\n",
        "            for c in [0, 1]:\n",
        "                fold = f'{base_path}/{pat}/{c}/'\n",
        "                imgs = listdir(fold)\n",
        "                self.images += [fold + img for img in imgs]\n",
        "                self.targets += [c]*len(imgs)\n",
        "                self.pids += [pat]*len(imgs)\n",
        "        self.transform = transform\n",
        "        self.target_transform = target_transform\n",
        "\n",
        "    def __len__(self):\n",
        "        return len(self.images)\n",
        "\n",
        "    def __getitem__(self, idx):\n",
        "        image = read_image(self.images[idx])\n",
        "        label = self.targets[idx]\n",
        "        if torch.cuda.is_available():\n",
        "            image = image.to('cuda')\n",
        "        if self.transform:\n",
        "            image = self.transform(image)\n",
        "        if self.target_transform:\n",
        "            label = self.target_transform(label)\n",
        "        return image.float()/255, label"
      ],
      "metadata": {
        "id": "NVnDflADsuKQ"
      },
      "execution_count": null,
      "outputs": []
    },
    {
      "cell_type": "code",
      "source": [
        "full_set = BC_Dataset(base_path, transform=T.Resize((50,50)))"
      ],
      "metadata": {
        "colab": {
          "base_uri": "https://localhost:8080/"
        },
        "id": "S7wjHlpvvzMU",
        "outputId": "bec1e5e3-7fa9-4ccf-b47d-ff613319f435"
      },
      "execution_count": null,
      "outputs": [
        {
          "output_type": "stream",
          "name": "stderr",
          "text": [
            "100%|██████████| 279/279 [00:00<00:00, 1393.49it/s]\n"
          ]
        }
      ]
    },
    {
      "cell_type": "code",
      "source": [
        "full_set[0]"
      ],
      "metadata": {
        "colab": {
          "base_uri": "https://localhost:8080/"
        },
        "id": "1Ww2jGRE8_4f",
        "outputId": "c332aa2e-fc62-48dc-9d6b-1915b722fa4e"
      },
      "execution_count": null,
      "outputs": [
        {
          "output_type": "execute_result",
          "data": {
            "text/plain": [
              "(tensor([[[0.4392, 0.2392, 0.3216,  ..., 0.9569, 0.9569, 0.9529],\n",
              "          [0.3529, 0.1255, 0.2941,  ..., 0.9569, 0.9569, 0.9569],\n",
              "          [0.4706, 0.4588, 0.6431,  ..., 0.9569, 0.9569, 0.9569],\n",
              "          ...,\n",
              "          [0.7373, 0.5294, 0.8314,  ..., 0.8196, 0.7412, 0.6706],\n",
              "          [0.6706, 0.6275, 0.8588,  ..., 0.8353, 0.8157, 0.5529],\n",
              "          [0.8902, 0.8627, 0.8471,  ..., 0.7804, 0.8863, 0.7961]],\n",
              " \n",
              "         [[0.4118, 0.3765, 0.4196,  ..., 0.9529, 0.9490, 0.9490],\n",
              "          [0.2824, 0.3333, 0.4431,  ..., 0.9490, 0.9490, 0.9490],\n",
              "          [0.4549, 0.5373, 0.7412,  ..., 0.9490, 0.9490, 0.9490],\n",
              "          ...,\n",
              "          [0.2000, 0.2000, 0.4667,  ..., 0.7529, 0.5608, 0.3843],\n",
              "          [0.3686, 0.2118, 0.5725,  ..., 0.6667, 0.7451, 0.3961],\n",
              "          [0.7608, 0.6980, 0.5529,  ..., 0.6863, 0.8706, 0.7098]],\n",
              " \n",
              "         [[0.5216, 0.5647, 0.6078,  ..., 0.9529, 0.9529, 0.9529],\n",
              "          [0.4314, 0.5804, 0.6353,  ..., 0.9529, 0.9529, 0.9529],\n",
              "          [0.5961, 0.6980, 0.8392,  ..., 0.9529, 0.9529, 0.9529],\n",
              "          ...,\n",
              "          [0.3373, 0.3647, 0.6275,  ..., 0.8235, 0.7255, 0.5647],\n",
              "          [0.5529, 0.4078, 0.7216,  ..., 0.7804, 0.8039, 0.5255],\n",
              "          [0.8275, 0.7961, 0.6941,  ..., 0.7804, 0.9098, 0.8196]]],\n",
              "        device='cuda:0'), 0)"
            ]
          },
          "metadata": {},
          "execution_count": 6
        }
      ]
    },
    {
      "cell_type": "code",
      "source": [
        "show_img(full_set[0][0])"
      ],
      "metadata": {
        "colab": {
          "base_uri": "https://localhost:8080/",
          "height": 267
        },
        "id": "NbBzhV574r6d",
        "outputId": "0572929b-95b8-4eac-88e9-b83b5b40a80d"
      },
      "execution_count": null,
      "outputs": [
        {
          "output_type": "display_data",
          "data": {
            "text/plain": [
              "<Figure size 432x288 with 1 Axes>"
            ],
            "image/png": "[encoded data removed]"
          },
          "metadata": {
            "needs_background": "light"
          }
        }
      ]
    },
    {
      "cell_type": "code",
      "source": [
        "\n",
        "train_set, test_set, _ = random_split(\n",
        "    full_set, \n",
        "    [\n",
        "        10_000,#int(0.7*len(full_set)), \n",
        "        10_000,#int(0.2*len(full_set)), \n",
        "        len(full_set)-20_000#len(full_set)-int(0.7*len(full_set))-int(0.2*len(full_set))\n",
        "    ], \n",
        "    generator=torch.Generator(device=\"cpu\").manual_seed(42)\n",
        ")\n",
        "[len(_set) for _set in [train_set, test_set]]"
      ],
      "metadata": {
        "colab": {
          "base_uri": "https://localhost:8080/"
        },
        "id": "B6jOuZxvyr9S",
        "outputId": "5f89c981-e097-4c43-83ff-6f9d6065590d"
      },
      "execution_count": null,
      "outputs": [
        {
          "output_type": "execute_result",
          "data": {
            "text/plain": [
              "[10000, 10000]"
            ]
          },
          "metadata": {},
          "execution_count": 9
        }
      ]
    },
    {
      "cell_type": "code",
      "source": [
        "device = \"cuda\" if torch.cuda.is_available() else \"cpu\"\n",
        "print(f\"Using {device} device\")"
      ],
      "metadata": {
        "colab": {
          "base_uri": "https://localhost:8080/"
        },
        "id": "3z5F5-gR1Bg7",
        "outputId": "5358d702-a673-429a-b117-6205a706bdf8"
      },
      "execution_count": null,
      "outputs": [
        {
          "output_type": "stream",
          "name": "stdout",
          "text": [
            "Using cuda device\n"
          ]
        }
      ]
    },
    {
      "cell_type": "code",
      "source": [
        "\n",
        "\n",
        "train_dataloader = DataLoader(train_set, batch_size=50, collate_fn=lambda x: tuple(x_.to(device) for x_ in default_collate(x)))\n",
        "test_dataloader = DataLoader(test_set, batch_size=50, collate_fn=lambda x: tuple(x_.to(device) for x_ in default_collate(x)))"
      ],
      "metadata": {
        "id": "9UX-x4aH2y50"
      },
      "execution_count": null,
      "outputs": []
    },
    {
      "cell_type": "markdown",
      "source": [
        "# CNN"
      ],
      "metadata": {
        "id": "8d6CNPFaXYHj"
      }
    },
    {
      "cell_type": "code",
      "source": [
        "ip = torch.rand(3, 50, 50)\n",
        "convo = nn.Conv2d(3, 24, 3)\n",
        "rel = nn.ReLU()\n",
        "pool = nn.MaxPool2d(4)\n",
        "convo(ip).size(), rel(convo(ip)).size(), pool(rel(convo(ip))).size()"
      ],
      "metadata": {
        "colab": {
          "base_uri": "https://localhost:8080/"
        },
        "id": "zlFcR-YzKG3f",
        "outputId": "ba377b7f-c89e-4f42-844a-b3c469ef72b2"
      },
      "execution_count": null,
      "outputs": [
        {
          "output_type": "execute_result",
          "data": {
            "text/plain": [
              "(torch.Size([24, 48, 48]), torch.Size([24, 48, 48]), torch.Size([24, 12, 12]))"
            ]
          },
          "metadata": {},
          "execution_count": 12
        }
      ]
    },
    {
      "cell_type": "code",
      "source": [
        "stk = nn.Sequential(\n",
        "            nn.Conv2d(in_channels=3, out_channels=64, kernel_size=3),\n",
        "            nn.ReLU(),\n",
        "            nn.MaxPool2d(2),\n",
        "            nn.Conv2d(in_channels=64, out_channels=64, kernel_size=3),\n",
        "            nn.ReLU(),\n",
        "            nn.MaxPool2d(2),\n",
        "            nn.Conv2d(in_channels=64, out_channels=64, kernel_size=3),\n",
        "            nn.ReLU(),\n",
        "            nn.MaxPool2d(2)\n",
        "        )\n",
        "stk(ip).size()"
      ],
      "metadata": {
        "colab": {
          "base_uri": "https://localhost:8080/"
        },
        "id": "TN-QmKnTSJTc",
        "outputId": "4475037a-5367-4668-d6ed-68a2a79a00af"
      },
      "execution_count": null,
      "outputs": [
        {
          "output_type": "execute_result",
          "data": {
            "text/plain": [
              "torch.Size([64, 4, 4])"
            ]
          },
          "metadata": {},
          "execution_count": 13
        }
      ]
    },
    {
      "cell_type": "code",
      "source": [
        "64*4*4"
      ],
      "metadata": {
        "colab": {
          "base_uri": "https://localhost:8080/"
        },
        "id": "vc6ucntSRubd",
        "outputId": "d870a991-2fef-4394-a8fa-d04d080c6722"
      },
      "execution_count": null,
      "outputs": [
        {
          "output_type": "execute_result",
          "data": {
            "text/plain": [
              "1024"
            ]
          },
          "metadata": {},
          "execution_count": 14
        }
      ]
    },
    {
      "cell_type": "code",
      "source": [
        "class BC_Classifier(nn.Module):\n",
        "    def __init__(self):\n",
        "        super(BC_Classifier, self).__init__()\n",
        "        self.convo_stack = nn.Sequential(\n",
        "            nn.Conv2d(in_channels=3, out_channels=64, kernel_size=3),\n",
        "            nn.ReLU(),\n",
        "            nn.MaxPool2d(2),\n",
        "            nn.Conv2d(in_channels=64, out_channels=64, kernel_size=3),\n",
        "            nn.ReLU(),\n",
        "            nn.MaxPool2d(2),\n",
        "            nn.Conv2d(in_channels=64, out_channels=64, kernel_size=3),\n",
        "            nn.ReLU(),\n",
        "            nn.MaxPool2d(2)\n",
        "        )\n",
        "        self.flatten = nn.Flatten()\n",
        "        self.linear_relu_stack = nn.Sequential(\n",
        "            nn.Linear(64*4*4, 200),\n",
        "            nn.ReLU(),\n",
        "            nn.Linear(200, 10),\n",
        "            nn.ReLU(),\n",
        "            nn.Linear(10, 2),\n",
        "        )\n",
        "\n",
        "    def forward(self, x):\n",
        "        x = self.convo_stack(x)\n",
        "        x = self.flatten(x)\n",
        "        logits = self.linear_relu_stack(x)\n",
        "        return logits"
      ],
      "metadata": {
        "id": "_MA_Gzj5zHvb"
      },
      "execution_count": null,
      "outputs": []
    },
    {
      "cell_type": "code",
      "source": [
        "model = BC_Classifier().to(device)\n",
        "print(model)"
      ],
      "metadata": {
        "colab": {
          "base_uri": "https://localhost:8080/"
        },
        "id": "XkMi2AqW1Rm8",
        "outputId": "3514658a-974c-42b8-f9ea-292f3291bdfa"
      },
      "execution_count": null,
      "outputs": [
        {
          "output_type": "stream",
          "name": "stdout",
          "text": [
            "BC_Classifier(\n",
            "  (convo_stack): Sequential(\n",
            "    (0): Conv2d(3, 64, kernel_size=(3, 3), stride=(1, 1))\n",
            "    (1): ReLU()\n",
            "    (2): MaxPool2d(kernel_size=2, stride=2, padding=0, dilation=1, ceil_mode=False)\n",
            "    (3): Conv2d(64, 64, kernel_size=(3, 3), stride=(1, 1))\n",
            "    (4): ReLU()\n",
            "    (5): MaxPool2d(kernel_size=2, stride=2, padding=0, dilation=1, ceil_mode=False)\n",
            "    (6): Conv2d(64, 64, kernel_size=(3, 3), stride=(1, 1))\n",
            "    (7): ReLU()\n",
            "    (8): MaxPool2d(kernel_size=2, stride=2, padding=0, dilation=1, ceil_mode=False)\n",
            "  )\n",
            "  (flatten): Flatten(start_dim=1, end_dim=-1)\n",
            "  (linear_relu_stack): Sequential(\n",
            "    (0): Linear(in_features=1024, out_features=200, bias=True)\n",
            "    (1): ReLU()\n",
            "    (2): Linear(in_features=200, out_features=10, bias=True)\n",
            "    (3): ReLU()\n",
            "    (4): Linear(in_features=10, out_features=2, bias=True)\n",
            "  )\n",
            ")\n"
          ]
        }
      ]
    },
    {
      "cell_type": "code",
      "source": [
        "X = torch.rand(5, 3, 50, 50, device=device)\n",
        "logits = model(X)\n",
        "pred_probab = nn.Softmax(dim=1)(logits)\n",
        "y_pred = pred_probab.argmax(1)\n",
        "print(f\"Predicted class: {y_pred}\")"
      ],
      "metadata": {
        "colab": {
          "base_uri": "https://localhost:8080/"
        },
        "id": "M0ZarYVE1Cop",
        "outputId": "95cab401-5af5-4fac-a3dd-f45443640f0d"
      },
      "execution_count": null,
      "outputs": [
        {
          "output_type": "stream",
          "name": "stdout",
          "text": [
            "Predicted class: tensor([1, 1, 1, 1, 1], device='cuda:0')\n"
          ]
        }
      ]
    },
    {
      "cell_type": "markdown",
      "source": [
        "# Training"
      ],
      "metadata": {
        "id": "G2ca-3UCXh2l"
      }
    },
    {
      "cell_type": "markdown",
      "source": [
        "## Helper functions"
      ],
      "metadata": {
        "id": "y3nZ6cv9SMlh"
      }
    },
    {
      "cell_type": "code",
      "source": [
        "def train_loop(dataloader, model, loss_fn, optimizer):\n",
        "    size = len(dataloader.dataset)\n",
        "    for batch, (X, y) in enumerate(dataloader):\n",
        "        # Compute prediction and loss\n",
        "        pred = model(X)\n",
        "        loss = loss_fn(pred, y)\n",
        "\n",
        "        # Backpropagation\n",
        "        optimizer.zero_grad()\n",
        "        loss.backward()\n",
        "        optimizer.step()\n",
        "\n",
        "        if batch % 100 == 0:\n",
        "            loss, current = loss.item(), batch * len(X)\n",
        "            print(f\"loss: {loss:>7f}  [{current:>5d}/{size:>5d}]\")\n",
        "\n",
        "\n",
        "def test_loop(dataloader, model, loss_fn):\n",
        "    size = len(dataloader.dataset)\n",
        "    num_batches = len(dataloader)\n",
        "    test_loss, correct = 0, 0\n",
        "\n",
        "    with torch.no_grad():\n",
        "        for X, y in tqdm(dataloader):\n",
        "            pred = model(X)\n",
        "            test_loss += loss_fn(pred, y).item()\n",
        "            correct += (pred.argmax(1) == y).type(torch.float).sum().item()\n",
        "\n",
        "    test_loss /= num_batches\n",
        "    correct /= size\n",
        "    print(f\"Test Error: \\n Accuracy: {(100*correct):>0.1f}%, Avg loss: {test_loss:>8f} \\n\")"
      ],
      "metadata": {
        "id": "gcgN0Fe62I51"
      },
      "execution_count": null,
      "outputs": []
    },
    {
      "cell_type": "markdown",
      "source": [
        "## Training"
      ],
      "metadata": {
        "id": "MDMUZ5j7SJkI"
      }
    },
    {
      "cell_type": "code",
      "source": [
        "loss_fn = nn.CrossEntropyLoss()\n",
        "learning_rate = 1e-8\n",
        "optimizer = torch.optim.Adam(model.parameters()) #torch.optim.SGD(model.parameters(), lr=learning_rate)\n",
        "\n",
        "epochs = 1\n",
        "for t in range(epochs):\n",
        "    print(f\"Epoch {t+1}\\n-------------------------------\")\n",
        "    train_loop(train_dataloader, model, loss_fn, optimizer)\n",
        "    test_loop(test_dataloader, model, loss_fn)\n",
        "print(\"Done!\")"
      ],
      "metadata": {
        "colab": {
          "base_uri": "https://localhost:8080/"
        },
        "id": "mfXV3pFd2oHA",
        "outputId": "a00f97e1-83ac-405c-93b3-ab38f2e5a85b"
      },
      "execution_count": null,
      "outputs": [
        {
          "output_type": "stream",
          "name": "stdout",
          "text": [
            "Epoch 1\n",
            "-------------------------------\n",
            "loss: 0.741381  [    0/10000]\n",
            "loss: 0.430160  [ 5000/10000]\n"
          ]
        },
        {
          "output_type": "stream",
          "name": "stderr",
          "text": [
            "100%|██████████| 200/200 [00:04<00:00, 44.80it/s]"
          ]
        },
        {
          "output_type": "stream",
          "name": "stdout",
          "text": [
            "Test Error: \n",
            " Accuracy: 81.9%, Avg loss: 0.413599 \n",
            "\n",
            "Done!\n"
          ]
        },
        {
          "output_type": "stream",
          "name": "stderr",
          "text": [
            "\n"
          ]
        }
      ]
    },
    {
      "cell_type": "markdown",
      "source": [
        "# Save and Load model"
      ],
      "metadata": {
        "id": "W1dBWd7tozAb"
      }
    },
    {
      "cell_type": "code",
      "source": [
        "model_file = '/content/drive/Shareddrives/cancerClassify_ML@SJSU/models/simpleCNN10mini.pth'"
      ],
      "metadata": {
        "id": "RBrEnaTnpX6p"
      },
      "execution_count": null,
      "outputs": []
    },
    {
      "cell_type": "code",
      "source": [
        "torch.save(model, model_file)"
      ],
      "metadata": {
        "id": "CKtg9RS3owNz"
      },
      "execution_count": null,
      "outputs": []
    },
    {
      "cell_type": "code",
      "source": [
        "model = torch.load(model_file)"
      ],
      "metadata": {
        "id": "2yZcMN6vpl3-"
      },
      "execution_count": null,
      "outputs": []
    },
    {
      "cell_type": "code",
      "source": [
        "test_loop(test_dataloader, model, nn.CrossEntropyLoss())"
      ],
      "metadata": {
        "colab": {
          "base_uri": "https://localhost:8080/"
        },
        "id": "3FBn4YApp1eP",
        "outputId": "ff0a1bdd-679e-4064-d023-e795f054045c"
      },
      "execution_count": null,
      "outputs": [
        {
          "output_type": "stream",
          "name": "stderr",
          "text": [
            "100%|██████████| 200/200 [00:04<00:00, 44.35it/s]"
          ]
        },
        {
          "output_type": "stream",
          "name": "stdout",
          "text": [
            "Test Error: \n",
            " Accuracy: 81.9%, Avg loss: 0.413599 \n",
            "\n"
          ]
        },
        {
          "output_type": "stream",
          "name": "stderr",
          "text": [
            "\n"
          ]
        }
      ]
    },
    {
      "cell_type": "markdown",
      "source": [
        "# SVC attempt"
      ],
      "metadata": {
        "id": "LHqX4Ch3b__E"
      }
    },
    {
      "cell_type": "code",
      "source": [
        "half_pass = lambda x: model.linear_relu_stack[:3](\n",
        "    model.flatten(\n",
        "        model.convo_stack(x)\n",
        "    )\n",
        ").to('cpu').numpy()"
      ],
      "metadata": {
        "id": "LQm62s8DhgQi"
      },
      "execution_count": null,
      "outputs": []
    },
    {
      "cell_type": "code",
      "source": [
        "device"
      ],
      "metadata": {
        "colab": {
          "base_uri": "https://localhost:8080/",
          "height": 36
        },
        "id": "GAzDbj7iKuSG",
        "outputId": "362eeeb1-082a-4250-9cda-06cbc49f8048"
      },
      "execution_count": null,
      "outputs": [
        {
          "output_type": "execute_result",
          "data": {
            "text/plain": [
              "'cuda'"
            ],
            "application/vnd.google.colaboratory.intrinsic+json": {
              "type": "string"
            }
          },
          "metadata": {},
          "execution_count": 27
        }
      ]
    },
    {
      "cell_type": "code",
      "source": [
        "with torch.no_grad():\n",
        "    print(half_pass(torch.rand(5, 3, 50, 50).to(device)).shape)"
      ],
      "metadata": {
        "colab": {
          "base_uri": "https://localhost:8080/"
        },
        "id": "Gn-JKkciiVKQ",
        "outputId": "09045b5e-0930-4df3-9cad-49d56efc0e05"
      },
      "execution_count": null,
      "outputs": [
        {
          "output_type": "stream",
          "name": "stdout",
          "text": [
            "(5, 10)\n"
          ]
        }
      ]
    },
    {
      "cell_type": "code",
      "source": [
        "import numpy as np\n",
        "class Dset:\n",
        "    def __init__(self, x=[], y=[]):\n",
        "        self.x = x\n",
        "        self.y = y"
      ],
      "metadata": {
        "id": "ezmXd2hEjU-6"
      },
      "execution_count": null,
      "outputs": []
    },
    {
      "cell_type": "code",
      "source": [
        "len(test_set), len(train_set)"
      ],
      "metadata": {
        "colab": {
          "base_uri": "https://localhost:8080/"
        },
        "id": "bfNa8UWvZAoz",
        "outputId": "d9110683-ce0e-45c9-ace7-035d986693d3"
      },
      "execution_count": null,
      "outputs": [
        {
          "output_type": "execute_result",
          "data": {
            "text/plain": [
              "(10000, 10000)"
            ]
          },
          "metadata": {},
          "execution_count": 30
        }
      ]
    },
    {
      "cell_type": "code",
      "source": [
        "from math import ceil\n",
        "\n",
        "with torch.no_grad():\n",
        "    X, y = [], []\n",
        "    for _x, _y in tqdm(test_dataloader):\n",
        "        X.extend(half_pass(_x))\n",
        "        y.extend(_y.to('cpu'))\n",
        "        #print(len(X))\n",
        "    test = Dset(np.array(X), np.array(y))\n",
        "    print(\"Test dset\")\n",
        "    print(test.x.shape, test.y.shape)\n",
        "\n",
        "    X, y = [], []\n",
        "    for _x, _y in tqdm(train_dataloader):\n",
        "        X.extend(half_pass(_x))\n",
        "        y.extend(_y.to('cpu'))\n",
        "    train = Dset(np.array(X), np.array(y))\n",
        "    print(\"Train dset\")\n",
        "    print(train.x.shape, train.y.shape)\n",
        "\n"
      ],
      "metadata": {
        "id": "yBiixWh0jodm",
        "colab": {
          "base_uri": "https://localhost:8080/"
        },
        "outputId": "5df7fa78-e6b0-4c40-d89c-5c6313f99c25"
      },
      "execution_count": null,
      "outputs": [
        {
          "output_type": "stream",
          "name": "stderr",
          "text": [
            "100%|██████████| 200/200 [00:04<00:00, 44.54it/s]\n"
          ]
        },
        {
          "output_type": "stream",
          "name": "stdout",
          "text": [
            "Test dset\n",
            "(10000, 10) (10000,)\n"
          ]
        },
        {
          "output_type": "stream",
          "name": "stderr",
          "text": [
            "100%|██████████| 200/200 [00:04<00:00, 44.09it/s]"
          ]
        },
        {
          "output_type": "stream",
          "name": "stdout",
          "text": [
            "Train dset\n",
            "(10000, 10) (10000,)\n"
          ]
        },
        {
          "output_type": "stream",
          "name": "stderr",
          "text": [
            "\n"
          ]
        }
      ]
    },
    {
      "cell_type": "code",
      "source": [
        "test.x.shape, test.y.shape"
      ],
      "metadata": {
        "id": "v74JqIodZ8ub",
        "colab": {
          "base_uri": "https://localhost:8080/"
        },
        "outputId": "4fb8d7d5-5442-4041-e9fc-79480df43921"
      },
      "execution_count": null,
      "outputs": [
        {
          "output_type": "execute_result",
          "data": {
            "text/plain": [
              "((10000, 10), (10000,))"
            ]
          },
          "metadata": {},
          "execution_count": 32
        }
      ]
    },
    {
      "cell_type": "code",
      "source": [
        "sum(train.y[:1000])"
      ],
      "metadata": {
        "colab": {
          "base_uri": "https://localhost:8080/"
        },
        "id": "0E8CxSZBOmkT",
        "outputId": "2fa1a762-50b5-4958-b15a-ba3dc8cd1a13"
      },
      "execution_count": null,
      "outputs": [
        {
          "output_type": "execute_result",
          "data": {
            "text/plain": [
              "286"
            ]
          },
          "metadata": {},
          "execution_count": 33
        }
      ]
    },
    {
      "cell_type": "code",
      "source": [],
      "metadata": {
        "id": "8xSF2Ft9R6kY"
      },
      "execution_count": null,
      "outputs": []
    },
    {
      "cell_type": "code",
      "source": [
        "from sklearn.pipeline import make_pipeline\n",
        "from sklearn.preprocessing import StandardScaler\n",
        "from sklearn.svm import SVC"
      ],
      "metadata": {
        "id": "qYiUHaRAR6UK"
      },
      "execution_count": null,
      "outputs": []
    },
    {
      "cell_type": "code",
      "source": [
        "size = 10000\n",
        "clf = make_pipeline(StandardScaler(), SVC())\n",
        "clf.fit(train.x[:size], train.y[:size])\n",
        "clf.score(test.x, test.y)"
      ],
      "metadata": {
        "id": "sMc2eQzXcFBA",
        "colab": {
          "base_uri": "https://localhost:8080/"
        },
        "outputId": "6a9e9dc8-db0a-4d1c-e985-df3178c4095c"
      },
      "execution_count": null,
      "outputs": [
        {
          "output_type": "execute_result",
          "data": {
            "text/plain": [
              "0.8283"
            ]
          },
          "metadata": {},
          "execution_count": 38
        }
      ]
    },
    {
      "cell_type": "code",
      "source": [],
      "metadata": {
        "id": "oKNy_daarAyM"
      },
      "execution_count": null,
      "outputs": []
    }
  ],
  "metadata": {
    "colab": {
      "provenance": [],
      "toc_visible": true,
      "mount_file_id": "1iHi0E0fFHEOJQuAk3qv99euXQ6Qo4Axg",
      "authorship_tag": "ABX9TyNNC4l/owhjhtPdI8tFbWJI",
      "include_colab_link": true
    },
    "kernelspec": {
      "display_name": "Python 3",
      "name": "python3"
    },
    "language_info": {
      "name": "python"
    },
    "gpuClass": "standard",
    "accelerator": "GPU"
  },
  "nbformat": 4,
  "nbformat_minor": 0
}